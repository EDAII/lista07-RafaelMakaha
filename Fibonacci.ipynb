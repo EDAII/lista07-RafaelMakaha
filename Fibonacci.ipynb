{
 "cells": [
  {
   "cell_type": "code",
   "execution_count": 19,
   "metadata": {},
   "outputs": [],
   "source": [
    "FibArray = [0, 1]\n",
    "\n",
    "def fibonacci(n):\n",
    "    while len(FibArray) < n + 1: \n",
    "        FibArray.append(0) \n",
    "     \n",
    "    if n <= 1:\n",
    "       return n\n",
    "    \n",
    "    else:\n",
    "        if FibArray[n - 1] ==  0:\n",
    "           FibArray[n - 1] = fibonacci(n - 1)\n",
    "     \n",
    "        if FibArray[n - 2] ==  0:\n",
    "           FibArray[n - 2] = fibonacci(n - 2)\n",
    "     \n",
    "        FibArray[n] = FibArray[n - 2] + FibArray[n - 1]\n",
    "       \n",
    "    return FibArray[n]"
   ]
  },
  {
   "cell_type": "code",
   "execution_count": 20,
   "metadata": {},
   "outputs": [
    {
     "name": "stdout",
     "output_type": "stream",
     "text": [
      "Soma: 55\n"
     ]
    }
   ],
   "source": [
    "valor = 10\n",
    "\n",
    "print(\"Soma: \" + str(fibonacci(valor)))"
   ]
  },
  {
   "cell_type": "code",
   "execution_count": null,
   "metadata": {},
   "outputs": [],
   "source": []
  }
 ],
 "metadata": {
  "kernelspec": {
   "display_name": "Python 3",
   "language": "python",
   "name": "python3"
  },
  "language_info": {
   "codemirror_mode": {
    "name": "ipython",
    "version": 3
   },
   "file_extension": ".py",
   "mimetype": "text/x-python",
   "name": "python",
   "nbconvert_exporter": "python",
   "pygments_lexer": "ipython3",
   "version": "3.6.5"
  }
 },
 "nbformat": 4,
 "nbformat_minor": 2
}
